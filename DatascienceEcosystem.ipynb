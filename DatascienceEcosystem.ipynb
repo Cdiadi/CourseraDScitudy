{
 "cells": [
  {
   "cell_type": "markdown",
   "id": "6d1fa449-80d2-4bbb-90e8-5c0778284cc3",
   "metadata": {},
   "source": [
    "# Data Science Tools and Ecosystem "
   ]
  },
  {
   "cell_type": "markdown",
   "id": "89096d92-c5fc-4f3d-8574-c99e175201bd",
   "metadata": {},
   "source": [
    "In this notebook, Data Science Tools and Ecosystem are summarized."
   ]
  },
  {
   "cell_type": "markdown",
   "id": "335b1ca3-d6c5-4d2f-9493-b08f86b6e5ca",
   "metadata": {},
   "source": [
    "Some of the popular languages that Data Scientist use are:\n",
    "1. Python\n",
    "2. R\n",
    "3. Ruby\n",
    "4. C++\n",
    "5. Java\n",
    "6. Scala\n",
    "7. Spyder\n",
    "8. Javascript etc."
   ]
  },
  {
   "cell_type": "markdown",
   "id": "2d6f46e7-043d-4e20-af45-aa1bff63994d",
   "metadata": {},
   "source": [
    "Some of the commonly used libraries used by Data Scientists include:\n",
    "1. matplotlib\n",
    "2. panda\n",
    "3. seaborn\n",
    "4. numbpy\n",
    "5. scikit-learn\n",
    "6. keras\n",
    "7. tensorflow\n",
    "8. pytorch\n",
    "9. apache spark"
   ]
  },
  {
   "cell_type": "markdown",
   "id": "eb965bb4-a207-4ab3-ad71-d584c18b943f",
   "metadata": {},
   "source": [
    "|Data Science Tools|\n",
    "|:----------------:|\n",
    "|MySQL|\n",
    "|PostgreSQL|\n",
    "|MongolDB|"
   ]
  },
  {
   "cell_type": "markdown",
   "id": "fe0c2ec7-9e06-4499-9679-60e37781bcd3",
   "metadata": {},
   "source": [
    "### Below are a few examples of evaluating arithmetic expressions in Python"
   ]
  },
  {
   "cell_type": "code",
   "execution_count": 10,
   "id": "da6e228e-bae1-4284-a00f-2dc612b99ab0",
   "metadata": {},
   "outputs": [
    {
     "data": {
      "text/plain": [
       "17"
      ]
     },
     "execution_count": 10,
     "metadata": {},
     "output_type": "execute_result"
    }
   ],
   "source": [
    "(3*4)+5\n",
    "# This a simple arithmetic expression to mutiply \n",
    "# then add integers"
   ]
  },
  {
   "cell_type": "code",
   "execution_count": 3,
   "id": "2152edb8-c3d4-4edb-b420-86cbb62b61dc",
   "metadata": {},
   "outputs": [
    {
     "name": "stdout",
     "output_type": "stream",
     "text": [
      "3\n"
     ]
    }
   ],
   "source": [
    "# This will convert 200 minutes to hours by diving by 60\n",
    "\n",
    "def mihrs(x):\n",
    "    hours = int(x/60)\n",
    "    print(hours)\n",
    "\n",
    "mihrs(200)"
   ]
  },
  {
   "cell_type": "markdown",
   "id": "8a3f5ad8-f253-4423-b14a-1d2296a6248c",
   "metadata": {},
   "source": [
    "__Objective__\n",
    "- Examples Of Functions evaluating arithmethic expressions.\n",
    "- Examples Of Data Science tools\n",
    "- Examples Of Data Science Libraries\n",
    "- Overall outlook on the data science eco-systen."
   ]
  },
  {
   "cell_type": "markdown",
   "id": "c6dcea8b-4bfd-466d-b668-c31552048659",
   "metadata": {},
   "source": [
    "## Author\n",
    "Paul Osuji"
   ]
  }
 ],
 "metadata": {
  "kernelspec": {
   "display_name": "Python 3 (ipykernel)",
   "language": "python",
   "name": "python3"
  },
  "language_info": {
   "codemirror_mode": {
    "name": "ipython",
    "version": 3
   },
   "file_extension": ".py",
   "mimetype": "text/x-python",
   "name": "python",
   "nbconvert_exporter": "python",
   "pygments_lexer": "ipython3",
   "version": "3.11.7"
  }
 },
 "nbformat": 4,
 "nbformat_minor": 5
}
